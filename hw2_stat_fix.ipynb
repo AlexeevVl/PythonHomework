{
 "cells": [
  {
   "cell_type": "markdown",
   "metadata": {},
   "source": [
    "# Домашняя работа №2 (после доработки)"
   ]
  },
  {
   "cell_type": "code",
   "execution_count": 3,
   "metadata": {
    "collapsed": true
   },
   "outputs": [],
   "source": [
    "import pandas as pd\n",
    "from scipy import stats\n",
    "import numpy as np\n",
    "import math\n",
    "import random\n",
    "import seaborn as sns\n",
    "from sklearn import datasets\n",
    "from matplotlib import pyplot as plt\n",
    "from statsmodels.distributions.empirical_distribution import ECDF\n",
    "%matplotlib inline"
   ]
  },
  {
   "cell_type": "markdown",
   "metadata": {},
   "source": [
    "## Основные статистики и ЦПТ"
   ]
  },
  {
   "cell_type": "markdown",
   "metadata": {},
   "source": [
    "- Какие статистики являются оценками матожидания, медианы и дисперсии? Посчитайте их для гамма-распределения с параметрами (2, 2)"
   ]
  },
  {
   "cell_type": "markdown",
   "metadata": {},
   "source": [
    "Ответ на первый вопрос. \n",
    "В качестве оценки: \n",
    "- матожидания - среднее арифимитическое наблюдения $\\tilde{m}$\n",
    "- медианы - 50 % квантиль\n",
    "- дисперсии $D=\\frac{\\sum_{i=1}^{n}(X_i-\\tilde{m})^2}{n-1}$\n"
   ]
  },
  {
   "cell_type": "markdown",
   "metadata": {},
   "source": [
    "- Какое распределение имеет $\\bar{X}$ по ЦПТ? Если исходное распределение $\\mathcal{N}(5, 2)$. Сгенерировать выборки размером 50 из этого распределения и проверить. (построить распределение средних)"
   ]
  },
  {
   "cell_type": "code",
   "execution_count": 55,
   "metadata": {},
   "outputs": [
    {
     "name": "stdout",
     "output_type": "stream",
     "text": [
      "Выборочное среднее равно: 4.996165266945172, что соответствует теоритическому 5\n",
      "Выборочная дисперсия равна: 0.08049193724579876, что соответсвует se^2=(SD)^2/n=0.08 \n"
     ]
    },
    {
     "data": {
      "image/png": "[encoded data removed]",
      "text/plain": [
       "<matplotlib.figure.Figure at 0xc10b1d0>"
      ]
     },
     "metadata": {},
     "output_type": "display_data"
    }
   ],
   "source": [
    "#your code here\n",
    "norm_rv = stats.norm(5,2)\n",
    "var=[]\n",
    "mean=[]\n",
    "for i in range(10000):\n",
    "    sample=norm_rv.rvs(50)\n",
    "    mean.append(sample.mean())\n",
    "plt.hist(mean)\n",
    "print(\"Выборочное среднее равно: {}, что соответствует теоритическому 5\".format(np.array(mean).mean()))\n",
    "print(\"Выборочная дисперсия равна: {}, что соответсвует se^2=(SD)^2/n={} \".format(np.array(mean).var(),4/50))"
   ]
  },
  {
   "cell_type": "markdown",
   "metadata": {},
   "source": [
    "$\\bar{X}$ имеет нормально распределение со средним выборки  близким ко среднему выборки (5). "
   ]
  },
  {
   "cell_type": "markdown",
   "metadata": {},
   "source": [
    "- Сгенерируйте выборки так, чтобы ЦПТ не выполнялось (распределение средних не было похоже нормальное)"
   ]
  },
  {
   "cell_type": "code",
   "execution_count": 84,
   "metadata": {},
   "outputs": [
    {
     "data": {
      "text/plain": [
       "(array([  180.,  1752.,  3680.,  3020.,  1107.,   231.,    25.,     5.]),\n",
       " array([ 2.4451713 ,  2.63661147,  2.82805164,  3.0194918 ,  3.21093197,\n",
       "         3.40237214,  3.59381231,  3.78525248,  3.97669265]),\n",
       " <a list of 8 Patch objects>)"
      ]
     },
     "execution_count": 84,
     "metadata": {},
     "output_type": "execute_result"
    },
    {
     "data": {
      "image/png": "[encoded data removed]",
      "text/plain": [
       "<matplotlib.figure.Figure at 0xbe54320>"
      ]
     },
     "metadata": {},
     "output_type": "display_data"
    }
   ],
   "source": [
    "#your code here\n",
    "#your code here\n",
    "norm_rv = stats.expon(2)\n",
    "var=[]\n",
    "mean=[]\n",
    "for i in range(10000):\n",
    "    sample = norm_rv.rvs(27)\n",
    "    #your code here\n",
    "    mean.append(sample.mean())\n",
    "plt.hist(mean,bins=8)"
   ]
  },
  {
   "cell_type": "markdown",
   "metadata": {},
   "source": [
    "Достаточно изменить тип распределения выборки и небольшое кол-во значений при выборках из первой выборки. Но с увеличением этого числа, распределение станет нормальным."
   ]
  },
  {
   "cell_type": "markdown",
   "metadata": {},
   "source": [
    "- Сделайте z-преобразование для данного распределения"
   ]
  },
  {
   "cell_type": "code",
   "execution_count": 86,
   "metadata": {},
   "outputs": [
    {
     "name": "stdout",
     "output_type": "stream",
     "text": [
      "Initial var 0.9012036417794205 Initial mean 3.975268574184581\n",
      "After Z-transform var 1.0000000000000002  mean 7.815970093361102e-17\n"
     ]
    }
   ],
   "source": [
    "expon_rv = stats.expon(3)\n",
    "sample = expon_rv.rvs(1000)\n",
    "print(\"Initial var {} Initial mean {}\".format(sample.var(),sample.mean()))\n",
    "new_rvs=(sample-sample.mean())/math.sqrt(sample.var())\n",
    "\n",
    "print(\"After Z-transform var {}  mean {}\".format(new_rvs.var(),new_rvs.mean()))"
   ]
  },
  {
   "cell_type": "markdown",
   "metadata": {},
   "source": [
    "## Доверительные интервалы и гипотезы"
   ]
  },
  {
   "cell_type": "markdown",
   "metadata": {},
   "source": [
    "В данных задачах используйте встроенную функцию, позволяющую искать квантили случайной величины **your_rv**.ppf, а также https://gallery.shinyapps.io/dist_calc/ для визуальной картины"
   ]
  },
  {
   "cell_type": "markdown",
   "metadata": {},
   "source": [
    "- Постройте ДИ для распределения Стьюдента с df = 15 уровня доверия 90%  и 95%. Какой интервал шире?"
   ]
  },
  {
   "cell_type": "code",
   "execution_count": 92,
   "metadata": {},
   "outputs": [
    {
     "name": "stdout",
     "output_type": "stream",
     "text": [
      "90%  -1.75305035569 1.75305035569\n",
      "95% -2.13144954556 2.13144954556\n"
     ]
    }
   ],
   "source": [
    "#your code here\n",
    "t_rv=stats.t(15)\n",
    "sample = t_rv.rvs(10000)\n",
    "se=np.array(sample).var()/math.sqrt(10000)\n",
    "print(\"90% \",-t_rv.ppf(.95),t_rv.ppf(.95))\n",
    "print(\"95%\",-t_rv.ppf(.975),t_rv.ppf(.975))"
   ]
  },
  {
   "cell_type": "markdown",
   "metadata": {},
   "source": [
    "Доверительный интервал доверия шире 95%, т.к. содержит 95% значений выборки"
   ]
  },
  {
   "cell_type": "markdown",
   "metadata": {},
   "source": [
    "- Сгенерируйте 2 выборки с одинаковыми параметрами, отличающиеся в 2 раза по размеру. Постройте 2 90% ДИ. Чем они отличаются? Распределение $\\mathcal{N}(0,2)$ "
   ]
  },
  {
   "cell_type": "code",
   "execution_count": 107,
   "metadata": {},
   "outputs": [
    {
     "name": "stdout",
     "output_type": "stream",
     "text": [
      "CI for x1=0.01973459274470859+-0.09487749692243666\n",
      "CI for x2=0.0030450452732263505+-0.06533412708331957\n"
     ]
    }
   ],
   "source": [
    "norm_rv = stats.norm(0, 2)\n",
    "#your code here\n",
    "x1=norm_rv.rvs(5000)\n",
    "x2=norm_rv.rvs(10000)\n",
    "\n",
    "se1=math.sqrt(x1.var())/math.sqrt(5000)\n",
    "se2=math.sqrt(x2.var())/math.sqrt(10000)\n",
    "\n",
    "\n",
    "print(\"CI for x1={}+-{}\".format(x1.mean(),norm_rv.ppf(.95)*se1))\n",
    "\n",
    "print(\"CI for x2={}+-{}\".format(x2.mean(),norm_rv.ppf(.95)*se2))"
   ]
  },
  {
   "cell_type": "markdown",
   "metadata": {},
   "source": [
    "ДИ в выборке с большим количестовм значений будет уже, т.к. средняя квдаратичная ошибка будем меньше."
   ]
  }
 ],
 "metadata": {
  "kernelspec": {
   "display_name": "Python 3",
   "language": "python",
   "name": "python3"
  },
  "language_info": {
   "codemirror_mode": {
    "name": "ipython",
    "version": 3
   },
   "file_extension": ".py",
   "mimetype": "text/x-python",
   "name": "python",
   "nbconvert_exporter": "python",
   "pygments_lexer": "ipython3",
   "version": "3.6.1"
  }
 },
 "nbformat": 4,
 "nbformat_minor": 2
}
