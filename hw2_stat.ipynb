{
 "cells": [
  {
   "cell_type": "markdown",
   "metadata": {},
   "source": [
    "# Домашняя работа №2"
   ]
  },
  {
   "cell_type": "code",
   "execution_count": 29,
   "metadata": {
    "collapsed": true
   },
   "outputs": [],
   "source": [
    "import pandas as pd\n",
    "from scipy import stats\n",
    "import numpy as np\n",
    "import math\n",
    "import random\n",
    "import seaborn as sns\n",
    "from sklearn import datasets\n",
    "from matplotlib import pyplot as plt\n",
    "from statsmodels.distributions.empirical_distribution import ECDF\n",
    "%matplotlib inline"
   ]
  },
  {
   "cell_type": "markdown",
   "metadata": {},
   "source": [
    "## Генеральная совокупность и выборка"
   ]
  },
  {
   "cell_type": "markdown",
   "metadata": {},
   "source": [
    "- Чем отличается генеральная совокупность от выборки?"
   ]
  },
  {
   "cell_type": "markdown",
   "metadata": {},
   "source": [
    "#your answer here   \n",
    "Генеральная совокупность, все объекты соответсвующие какому-то правилу или условию.\n",
    "Выборка это подмножество генеральной совокупности, набор случано отоборанных обектов из генеральной совокупности."
   ]
  },
  {
   "cell_type": "markdown",
   "metadata": {},
   "source": [
    "- Если размер выборки больше 200, то такая выборка является репрезентативной?"
   ]
  },
  {
   "cell_type": "markdown",
   "metadata": {},
   "source": [
    "#your answer here    \n",
    "Реперезентативность выборки не всегда зависит от количества элементов в ней. Выборка должна охватить все возможные свойства объектов генеральной совкупности. Например, если мы будем исследовать зарплаты в России, то не коррреткным будет взять 200 человек из Москвы, такая выборка не будет репрезентативной"
   ]
  },
  {
   "cell_type": "markdown",
   "metadata": {},
   "source": [
    "- Измерили длину волос футболистов сборной Франции на ЧМ-2018. Что могло являться генеральной совокупностью? Приведите 3 примера."
   ]
  },
  {
   "cell_type": "markdown",
   "metadata": {},
   "source": [
    "#your answer here   \n",
    "a) Длина волос футболистов Франции  \n",
    "б) Длина волос мужчин во Франции в возрасте от 18 до 40   \n",
    "в) Длина волос футболистов на ЧМ-2018"
   ]
  },
  {
   "cell_type": "markdown",
   "metadata": {},
   "source": [
    "- Пусть генеральная совокупность --- вес детей, родившихся в Волгограде за последние 10 лет. Предложите 2 стратегии, как сгенерировать выборку."
   ]
  },
  {
   "cell_type": "markdown",
   "metadata": {},
   "source": [
    "#your answer here   \n",
    "Например,     \n",
    "a)узнавать вес при рождении n детей, родившихся в Волгограде в годы с 2009 по 2018    \n",
    "б)узнавать вес при рождении n/2 мальчиков и n/2 девочек, родившихся в Волгограде в годы с 2009 по 2018"
   ]
  },
  {
   "cell_type": "markdown",
   "metadata": {},
   "source": [
    "## Параметры центра и разброса"
   ]
  },
  {
   "cell_type": "markdown",
   "metadata": {},
   "source": [
    "- Постройте распределение, у которого отсутствует мода.\n"
   ]
  },
  {
   "cell_type": "markdown",
   "metadata": {},
   "source": [
    "#your code here   \n",
    "У равномерного распредления нет моды, т.к. вероятности появления любого числа равновероятны"
   ]
  },
  {
   "cell_type": "code",
   "execution_count": 32,
   "metadata": {},
   "outputs": [
    {
     "data": {
      "text/plain": [
       "<matplotlib.legend.Legend at 0xac6e358>"
      ]
     },
     "execution_count": 32,
     "metadata": {},
     "output_type": "execute_result"
    },
    {
     "data": {
      "image/png": "[encoded data removed]",
      "text/plain": [
       "<Figure size 432x288 with 1 Axes>"
      ]
     },
     "metadata": {
      "needs_background": "light"
     },
     "output_type": "display_data"
    }
   ],
   "source": [
    "x=np.linspace(0,10,10)\n",
    "fig, ax = plt.subplots(1, 1)\n",
    "ax.plot(x,stats.uniform(0,10).pdf(x),'k-', lw=2)\n",
    "ax.set_title(\"Функция плотности\")\n",
    "ax.set_xlabel('$x$')\n",
    "ax.set_ylabel('$P(X)$')\n",
    "ax.legend([\"uniform\"])"
   ]
  },
  {
   "cell_type": "markdown",
   "metadata": {},
   "source": [
    "- Какая из статистик (медиана, матожидание) будет наиболее неустойчивой при выбросах? Проверить на выборке из Гамма-распределения. "
   ]
  },
  {
   "cell_type": "code",
   "execution_count": 48,
   "metadata": {},
   "outputs": [
    {
     "name": "stdout",
     "output_type": "stream",
     "text": [
      "old_mean 4.247040023389791 new_mean 6.088443099863064\n",
      "old_med 3.850005760225394 new_med 3.8528498093713712\n"
     ]
    }
   ],
   "source": [
    "gamma_rv = stats.gamma(3, 1)\n",
    "sample = gamma_rv.rvs(51)\n",
    "med = sorted(sample)[24]\n",
    "mean = sample.mean()\n",
    "\n",
    "\n",
    "#your code here\n",
    "overshoot =100 \n",
    "type(sample)\n",
    "sample_with_overshoot =np.append(sample,overshoot)\n",
    "new_med =sorted(sample_with_overshoot)[25]\n",
    "new_mean = sample_with_overshoot.mean()\n",
    "\n",
    "print(\"old_mean {} new_mean {}\".format(mean,new_mean))\n",
    "print(\"old_med {} new_med {}\".format(med,new_med))"
   ]
  },
  {
   "cell_type": "markdown",
   "metadata": {},
   "source": [
    "Среднее наиболее неустойчиво при выбросах. Т.к. при добавлении выброса, медиана сдвинется на один элемент вправо (если добавлен один выброс) или влево, в то время как матожидание значительно изменится.   "
   ]
  },
  {
   "cell_type": "markdown",
   "metadata": {},
   "source": [
    "- Как изменится матожидание, если к выборке добавить константу $C$? Умножить на $C$. \n",
    "\n",
    "Проверите на выборке из распределения Пуассона"
   ]
  },
  {
   "cell_type": "code",
   "execution_count": 64,
   "metadata": {},
   "outputs": [
    {
     "name": "stdout",
     "output_type": "stream",
     "text": [
      "mean 2.1 mean_with_c 2.6 mean_mult_c 1.05\n"
     ]
    }
   ],
   "source": [
    "pois_rv = stats.poisson(2)\n",
    "sample = pois_rv.rvs(100)\n",
    "C = 0.5\n",
    "sample_with_c = sample+0.5\n",
    "sample_mult_c=sample*0.5\n",
    "#your code here\n",
    "mean = sample.mean()\n",
    "mean_with_c = sample_with_c.mean()\n",
    "mean_mult_c = sample_mult_c.mean()\n",
    "print(\"mean {} mean_with_c {} mean_mult_c {}\".format(mean,mean_with_c,mean_mult_c))\n"
   ]
  },
  {
   "cell_type": "markdown",
   "metadata": {},
   "source": [
    "При добавлении констатнты \"с\" среднее вырасло на эту константу, при умножении на константу среднее изменилось в \"с\" раз, \n",
    "т.к. матожидание это линейнная функция."
   ]
  },
  {
   "cell_type": "markdown",
   "metadata": {},
   "source": [
    "- Как изменится дисперсия при добавлении выбросов? Проверьте для распределения экспоненциального распределения"
   ]
  },
  {
   "cell_type": "code",
   "execution_count": 26,
   "metadata": {},
   "outputs": [
    {
     "name": "stdout",
     "output_type": "stream",
     "text": [
      "old_var 1.7118001272995373 new_var 3.554334611095796\n"
     ]
    }
   ],
   "source": [
    "exp_rv = stats.expon(4)\n",
    "sample = exp_rv.rvs(50)\n",
    "var = sample.var()\n",
    "#your code here\n",
    "overshoot = 15\n",
    "sample_with_overshoot = np.append(sample,overshoot)\n",
    "new_var =sample_with_overshoot.var()\n",
    "print(\"old_var {} new_var {}\".format(var,new_var))"
   ]
  },
  {
   "cell_type": "markdown",
   "metadata": {},
   "source": [
    "Диспресия изменится, т.к. изменилось среднее"
   ]
  },
  {
   "cell_type": "markdown",
   "metadata": {},
   "source": [
    "- Что шире: интерквантильный размах ($X_{0.75} - X_{0.25}$) или $(\\bar{X}-s^2, \\bar{X}+s^2)$ для $\\mathcal{N}(a, \\sigma^2)$. Посчитайте и сравните эти интервалы для распредения $\\mathcal{N}(3,1)$"
   ]
  },
  {
   "cell_type": "code",
   "execution_count": 25,
   "metadata": {},
   "outputs": [
    {
     "name": "stdout",
     "output_type": "stream",
     "text": [
      "IQR 1.3050013814000754 R 1.913511336641358\n"
     ]
    }
   ],
   "source": [
    "norm_rv = stats.norm(3,1)\n",
    "sample = norm_rv.rvs(1000)\n",
    "\n",
    "per_75=np.percentile(sample,75)\n",
    "per_25=np.percentile(sample,25)\n",
    "IQR=per_75-per_25\n",
    "x_avg=sample.mean()\n",
    "\n",
    "R=(x_avg+sample.var())-(x_avg-sample.var())\n",
    "print(\"IQR {} R {}\".format(IQR,R))\n",
    "#your code here"
   ]
  },
  {
   "cell_type": "markdown",
   "metadata": {},
   "source": [
    "$(\\bar{X}-s, \\bar{X}+s)$ шире, т.к. там ~68% значения, когда в IQR только 50%"
   ]
  },
  {
   "cell_type": "markdown",
   "metadata": {},
   "source": [
    "## Основные статистики и ЦПТ"
   ]
  },
  {
   "cell_type": "markdown",
   "metadata": {},
   "source": [
    "- Что такое статистика? Посчитайте любую для бета-распределения (1,3)"
   ]
  },
  {
   "cell_type": "markdown",
   "metadata": {},
   "source": [
    "Статистика — измеримая числовая функция от выборки, не зависящая от неизвестных параметров распределения элементов выборки. Посчитаем медиану, она соответсвует 50 перцентилю."
   ]
  },
  {
   "cell_type": "code",
   "execution_count": 35,
   "metadata": {},
   "outputs": [
    {
     "name": "stdout",
     "output_type": "stream",
     "text": [
      "Медиана выборки равна: 0.1626762973982923\n"
     ]
    }
   ],
   "source": [
    "beta_rv = stats.beta(1,3)\n",
    "#your code here\n",
    "sample=beta_rv.rvs(100)\n",
    "median=np.percentile(sample,50)\n",
    "print(\"Медиана выборки равна: {}\".format(median))"
   ]
  },
  {
   "cell_type": "markdown",
   "metadata": {},
   "source": [
    "- Какие статистики являются оценками матожидания, медианы и дисперсии? Посчитайте их для гамма-распределения с параметрами (2, 2)"
   ]
  },
  {
   "cell_type": "code",
   "execution_count": 90,
   "metadata": {},
   "outputs": [
    {
     "name": "stdout",
     "output_type": "stream",
     "text": [
      "mean 3.9686675415337196 var 1.948020036995873 med 3.5772457815171688\n"
     ]
    }
   ],
   "source": [
    "gamma_rv = stats.gamma(2,2)\n",
    "sample=gamma_rv.rvs(50)\n",
    "#your code here\n",
    "mean =sample.mean()\n",
    "var =sample.var()\n",
    "med =np.percentile(sample,50)\n",
    "print(\"mean {} var {} med {}\".format(mean,var,med))\n"
   ]
  },
  {
   "cell_type": "markdown",
   "metadata": {},
   "source": [
    "- Какое распределение имеет $\\bar{X}$ по ЦПТ? Если исходное распределение $\\mathcal{N}(5, 2)$. Сгенерировать выборки размером 50 из этого распределения и проверить. (построить распределение средних)"
   ]
  },
  {
   "cell_type": "code",
   "execution_count": 46,
   "metadata": {},
   "outputs": [
    {
     "name": "stdout",
     "output_type": "stream",
     "text": [
      "ВЫборочное среднее равно: 4.998336153151808\n"
     ]
    },
    {
     "data": {
      "image/png": "[encoded data removed]",
      "text/plain": [
       "<Figure size 432x288 with 1 Axes>"
      ]
     },
     "metadata": {
      "needs_background": "light"
     },
     "output_type": "display_data"
    }
   ],
   "source": [
    "#your code here\n",
    "norm_rv = stats.norm(5,2)\n",
    "var=[]\n",
    "mean=[]\n",
    "for i in range(10000):\n",
    "    sample = norm_rv.rvs(50)\n",
    "    #your code here\n",
    "    #var.append(sample.var())\n",
    "    mean.append(sample.mean())\n",
    "plt.hist(mean,density=True)\n",
    "print(\"ВЫборочное среднее равно: {}\".format(np.array(mean).mean()))"
   ]
  },
  {
   "cell_type": "markdown",
   "metadata": {},
   "source": [
    "$\\bar{X}$ имеет нормально распределение со средним выборки  близким ко среднему выборки (5)"
   ]
  },
  {
   "cell_type": "markdown",
   "metadata": {},
   "source": [
    "- Сгенерируйте выборки так, чтобы ЦПТ не выполнялось (распределение средних не было похоже нормальное)"
   ]
  },
  {
   "cell_type": "code",
   "execution_count": 58,
   "metadata": {},
   "outputs": [
    {
     "name": "stdout",
     "output_type": "stream",
     "text": [
      "ВЫборочное среднее равно: 5.02528321074943\n"
     ]
    },
    {
     "data": {
      "image/png": "[encoded data removed]",
      "text/plain": [
       "<Figure size 432x288 with 1 Axes>"
      ]
     },
     "metadata": {
      "needs_background": "light"
     },
     "output_type": "display_data"
    }
   ],
   "source": [
    "#your code here\n",
    "#your code here\n",
    "norm_rv = stats.norm(5,2)\n",
    "var=[]\n",
    "mean=[]\n",
    "for i in range(50):\n",
    "    sample = norm_rv.rvs(30)\n",
    "    #your code here\n",
    "    #var.append(sample.var())\n",
    "    mean.append(sample.mean())\n",
    "plt.hist(mean,bins=8,density=True)\n",
    "print(\"ВЫборочное среднее равно: {}\".format(np.array(mean).mean()))"
   ]
  },
  {
   "cell_type": "markdown",
   "metadata": {},
   "source": [
    "Достаточно уменьшить кол-во выбранных значений из первончоалной выборки, чтобы ЦПТ не выполнялось."
   ]
  },
  {
   "cell_type": "markdown",
   "metadata": {},
   "source": [
    "- Сделайте z-преобразование для данного распределения"
   ]
  },
  {
   "cell_type": "code",
   "execution_count": 74,
   "metadata": {},
   "outputs": [
    {
     "name": "stdout",
     "output_type": "stream",
     "text": [
      "Initial var 1.0561584904649193 Initial mean 3.9626936554397005\n",
      "After Z-transform var 0.946827591718551  mean -1.4210854715202004e-17\n"
     ]
    }
   ],
   "source": [
    "expon_rv = stats.expon(3)\n",
    "sample = expon_rv.rvs(1000)\n",
    "print(\"Initial var {} Initial mean {}\".format(sample.var(),sample.mean()))\n",
    "new_rvs=(sample-sample.mean())/sample.var()\n",
    "\n",
    "print(\"After Z-transform var {}  mean {}\".format(new_rvs.var(),new_rvs.mean()))"
   ]
  },
  {
   "cell_type": "markdown",
   "metadata": {},
   "source": [
    "## Доверительные интервалы и гипотезы"
   ]
  },
  {
   "cell_type": "markdown",
   "metadata": {},
   "source": [
    "В данных задачах используйте встроенную функцию, позволяющую искать квантили случайной величины **your_rv**.ppf, а также https://gallery.shinyapps.io/dist_calc/ для визуальной картины"
   ]
  },
  {
   "cell_type": "markdown",
   "metadata": {},
   "source": [
    "- Постройте 90% доверительный интервал для среднего значения $\\mathcal{\\chi^2_{10}}$."
   ]
  },
  {
   "cell_type": "code",
   "execution_count": 50,
   "metadata": {},
   "outputs": [
    {
     "name": "stdout",
     "output_type": "stream",
     "text": [
      "10 +- 0.39025765837828313\n"
     ]
    }
   ],
   "source": [
    "#your code here\n",
    "chi2_rv=stats.chi2(10)\n",
    "var=[]\n",
    "sample = chi2_rv.rvs(10000)\n",
    "se=np.array(sample).var()/math.sqrt(10000)\n",
    "print(\"10 +- {}\".format(1.96*se))"
   ]
  },
  {
   "cell_type": "markdown",
   "metadata": {},
   "source": [
    "- Постройте ДИ для распределения Стьюдента с df = 15 уровня доверия 90%  и 95%. Какой интервал шире?"
   ]
  },
  {
   "cell_type": "code",
   "execution_count": 5,
   "metadata": {},
   "outputs": [
    {
     "name": "stdout",
     "output_type": "stream",
     "text": [
      "90% 1.3406056078504547 95%1.7530503556925547\n"
     ]
    }
   ],
   "source": [
    "#your code here\n",
    "t_rv=stats.t(15)\n",
    "print(\"90% {} 95%{}\".format(t_rv.ppf(.9),t_rv.ppf(.95)))"
   ]
  },
  {
   "cell_type": "markdown",
   "metadata": {},
   "source": [
    "Доверительный интервал доверия шире 95%, т.к. содержит 95% значений выборки"
   ]
  },
  {
   "cell_type": "markdown",
   "metadata": {},
   "source": [
    "- Сгенерируйте 2 выборки с одинаковыми параметрами, отличающиеся в 2 раза по размеру. Постройте 2 90% ДИ. Чем они отличаются? Распределение $\\mathcal{N}(0,2)$ "
   ]
  },
  {
   "cell_type": "code",
   "execution_count": 82,
   "metadata": {},
   "outputs": [
    {
     "name": "stdout",
     "output_type": "stream",
     "text": [
      "CI for x1 -4.7285736607198725 CI for x2 -4.700123309582699\n"
     ]
    }
   ],
   "source": [
    "norm_rv = stats.norm(0, 2)\n",
    "#your code here\n",
    "x1=norm_rv.rvs(5000)\n",
    "x2=norm_rv.rvs(10000)\n",
    "print(\"CI for x1 {} CI for x2 {}\".format(np.percentile(x1,0.9),np.percentile(x2,0.9)))"
   ]
  },
  {
   "cell_type": "markdown",
   "metadata": {},
   "source": [
    "Я не понял, несмотря на то, что кол-во чисел в выборке очень большое, я получаю разный значения, когда-то CI1 больше, \n",
    "когда-то CI2 "
   ]
  },
  {
   "cell_type": "markdown",
   "metadata": {},
   "source": [
    "- Пусть $H_0: M=100$. Мы получили $p = 0,12$ и не смогли отклонить нулевую гипотезу. Однако позже выяснилось, что среднее в генеральной совокупности равняется 114. Ошибку какого рода мы допустили?"
   ]
  },
  {
   "cell_type": "code",
   "execution_count": null,
   "metadata": {
    "collapsed": true
   },
   "outputs": [],
   "source": [
    "#your answer here\n",
    "Мы допустили ошибку второго рода (false negative). Принята неправильная нулевая гипотеза."
   ]
  },
  {
   "cell_type": "markdown",
   "metadata": {},
   "source": [
    "#### Какие рассуждения относительно p-value верные?\n",
    "\n",
    "- Если p уровень значимости равен 0,003, то вероятность того, что верна нулевая гипотеза также равняется  0,003.\n",
    "- Если бы в исследовании мы получили $p=0,9$, это означало бы, что верна нулевая гипотеза.\n",
    "- Чем меньше p уровень значимости, тем сильнее получаемые различия.\n"
   ]
  },
  {
   "cell_type": "code",
   "execution_count": null,
   "metadata": {
    "collapsed": true
   },
   "outputs": [],
   "source": [
    "#your answer here\n",
    "1) Не верно, это верно наоборот. Если мы точно знаем, что верная нулевая гипотеза, то она верна с полученной \n",
    "вероятностью  \n",
    "2) Нет, это значит, только чтомы не можем отвергнуть нулевую гипотезу\n",
    "3) Нет, это не верно"
   ]
  },
  {
   "cell_type": "markdown",
   "metadata": {},
   "source": [
    "- Какое $p$-value будете использовать, если отклонять $H_0$ рисковано: $0.05$ или $0.01$? Является ли 99\\% доверительный интервал хорошей оценкой в общем случае?"
   ]
  },
  {
   "cell_type": "code",
   "execution_count": null,
   "metadata": {
    "collapsed": true
   },
   "outputs": [],
   "source": [
    "#your answer here\n",
    "Если нулевую гипотезу отклонять рискованно, необходимо взять более низки порог 0.01. Да, т.к. он \n",
    "покрывает большое кол-во значений."
   ]
  },
  {
   "cell_type": "markdown",
   "metadata": {},
   "source": [
    "## Стьюдент и корреляция"
   ]
  },
  {
   "cell_type": "markdown",
   "metadata": {},
   "source": [
    "- Изобразите графики плотности распределения Стьюдента для нескольких значений df= (5,10, 20, 40) и $\\mathcal{N}(0,1)$. В чем отличия?"
   ]
  },
  {
   "cell_type": "code",
   "execution_count": 91,
   "metadata": {},
   "outputs": [
    {
     "data": {
      "text/plain": [
       "<matplotlib.legend.Legend at 0xc2d86a0>"
      ]
     },
     "execution_count": 91,
     "metadata": {},
     "output_type": "execute_result"
    },
    {
     "data": {
      "image/png": "[encoded data removed]",
      "text/plain": [
       "<matplotlib.figure.Figure at 0xbb5a358>"
      ]
     },
     "metadata": {},
     "output_type": "display_data"
    }
   ],
   "source": [
    "#your code here\n",
    "t_rv5=stats.t(5)\n",
    "t_rv10=stats.t(10)\n",
    "t_rv20=stats.t(20)\n",
    "t_rv40=stats.t(40)\n",
    "\n",
    "x=np.linspace(-6,6)\n",
    "plt.plot(x,t_rv5.pdf(x))\n",
    "plt.plot(x,t_rv10.pdf(x))\n",
    "plt.plot(x,t_rv20.pdf(x))\n",
    "plt.plot(x,t_rv40.pdf(x))\n",
    "plt.legend([\"df=5\",\"df=10\",\"df=20\",\"df=40\"])"
   ]
  },
  {
   "cell_type": "code",
   "execution_count": null,
   "metadata": {
    "collapsed": true
   },
   "outputs": [],
   "source": [
    "С увеличением кол-ва степеней свободы, распредедение стьюдента стремится к нормальному. Чем меньше степеней свободы, \n",
    "тем хвосты выше (дисперсия больше)"
   ]
  },
  {
   "cell_type": "markdown",
   "metadata": {},
   "source": [
    "- Постройте две выборки, чтобы их корреляция была равна -1. Изобразите зависимость на графике."
   ]
  },
  {
   "cell_type": "code",
   "execution_count": 97,
   "metadata": {},
   "outputs": [
    {
     "name": "stdout",
     "output_type": "stream",
     "text": [
      "-1.0\n"
     ]
    }
   ],
   "source": [
    "#your code here\n",
    "x1=[i for i in range(0,100)]\n",
    "y1=[-x for x in x1]\n",
    "corr, p_value=stats.pearsonr(x1,y1)\n",
    "print(corr)"
   ]
  },
  {
   "cell_type": "markdown",
   "metadata": {},
   "source": [
    "- Постройте две выборки, чтобы их корреляция была равна 0. Изобразите зависимость на графике."
   ]
  },
  {
   "cell_type": "code",
   "execution_count": 129,
   "metadata": {},
   "outputs": [
    {
     "name": "stdout",
     "output_type": "stream",
     "text": [
      "0.0\n"
     ]
    },
    {
     "data": {
      "image/png": "[encoded data removed]",
      "text/plain": [
       "<matplotlib.figure.Figure at 0xc5fa668>"
      ]
     },
     "metadata": {},
     "output_type": "display_data"
    }
   ],
   "source": [
    "#your code here\n",
    "#your code here\n",
    "xmean=5\n",
    "ymean=5\n",
    "x=[]\n",
    "y=[]\n",
    "for i in range(0,30):\n",
    "    rnd1=random.randint(0,9)\n",
    "    rnd2=random.randint(0,9)\n",
    "    x.append(xmean-rnd1)\n",
    "    y.append(ymean-rnd2)\n",
    "    x.append(xmean-rnd1)\n",
    "    y.append(ymean+rnd2)\n",
    "    x.append(xmean+rnd1)\n",
    "    y.append(ymean+rnd2)\n",
    "    x.append(xmean+rnd1)\n",
    "    y.append(ymean-rnd2)  \n",
    "plt.scatter(x,y)\n",
    "corr, p_value=stats.pearsonr(x,y)\n",
    "print(corr)"
   ]
  },
  {
   "cell_type": "markdown",
   "metadata": {},
   "source": [
    "- Сгенерируйте 2 выборки из $\\mathcal{N}(4,2)$, посчитайте их общий ранг и сумму рангов в каждой выборке."
   ]
  },
  {
   "cell_type": "code",
   "execution_count": 137,
   "metadata": {},
   "outputs": [
    {
     "name": "stdout",
     "output_type": "stream",
     "text": [
      "Ранг выборки 1 9411 Ранг выборки 2 10489\n"
     ]
    }
   ],
   "source": [
    "norm_rv = stats.norm(4,2)\n",
    "sample_1 = norm_rv.rvs(100)\n",
    "sample_2 = norm_rv.rvs(100)\n",
    "sample = np.concatenate((sample_1, sample_2))\n",
    "ordered_sample=sorted(sample)\n",
    "rank_sample_1=0\n",
    "rank_sample_2=0\n",
    "for i in range (0,len(ordered_sample)):\n",
    "    if ordered_sample[i] in sample_1:\n",
    "        rank_sample_1+=i\n",
    "    else: \n",
    "        rank_sample_2+=i\n",
    "print(\"Ранг выборки 1 {} Ранг выборки 2 {}\".format(rank_sample_1,rank_sample_2))\n",
    "#your code here"
   ]
  }
 ],
 "metadata": {
  "kernelspec": {
   "display_name": "Python 3",
   "language": "python",
   "name": "python3"
  },
  "language_info": {
   "codemirror_mode": {
    "name": "ipython",
    "version": 3
   },
   "file_extension": ".py",
   "mimetype": "text/x-python",
   "name": "python",
   "nbconvert_exporter": "python",
   "pygments_lexer": "ipython3",
   "version": "3.6.1"
  }
 },
 "nbformat": 4,
 "nbformat_minor": 2
}
